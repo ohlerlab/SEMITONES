{
 "cells": [
  {
   "cell_type": "markdown",
   "metadata": {},
   "source": [
    "# Enrichment scoring for feature selection\n",
    "In this notebook, we show a small example of how to select signficantly enriched genes for feature selection."
   ]
  },
  {
   "cell_type": "code",
   "execution_count": 1,
   "metadata": {},
   "outputs": [],
   "source": [
    "import os\n",
    "import itertools\n",
    "import numpy as np\n",
    "import pandas as pd\n",
    "import matplotlib.pyplot as plt\n",
    "\n",
    "from umap import UMAP as umap\n",
    "from sklearn.decomposition import PCA\n",
    "\n",
    "from SEMITONES.enrichment_scoring import calculate_escores\n",
    "from SEMITONES.enrichment_scoring import permute\n",
    "from SEMITONES.enrichment_scoring import sig_interval\n",
    "from SEMITONES.support_funcs import pairwise_similarities\n",
    "from SEMITONES.support_funcs import sig_dictionary"
   ]
  },
  {
   "cell_type": "markdown",
   "metadata": {},
   "source": [
    "## 1. Load the data"
   ]
  },
  {
   "cell_type": "code",
   "execution_count": 2,
   "metadata": {},
   "outputs": [],
   "source": [
    "os.chdir(\"../nestorowa\")"
   ]
  },
  {
   "cell_type": "code",
   "execution_count": 3,
   "metadata": {},
   "outputs": [],
   "source": [
    "data = pd.read_hdf(\"nestorowa_processed.h5\")  # counts\n",
    "PC20 = np.loadtxt(\"nestorowa_20PC.txt\", delimiter=\"\\t\")  # top 20 PCs\n",
    "UMAP = np.loadtxt(\"nestorowa_UMAP.txt\", delimiter=\"\\t\")  # 2D UMAP"
   ]
  },
  {
   "cell_type": "code",
   "execution_count": 4,
   "metadata": {},
   "outputs": [],
   "source": [
    "with open(\"nestorowa_dd_rcells.txt\", \"r\") as f:\n",
    "    r_cells = [int(c.strip(\"\\n\")) for c in f.readlines()]\n",
    "f.close()"
   ]
  },
  {
   "cell_type": "markdown",
   "metadata": {},
   "source": [
    "We will perform dimensionality reduction and hope to get a better separation of the cell populations in our data. We only use the HVGs for speed of our computations. Normally, this strategy can be used on all expressed genes."
   ]
  },
  {
   "cell_type": "markdown",
   "metadata": {},
   "source": [
    "## 2. Create the similarity matrix"
   ]
  },
  {
   "cell_type": "code",
   "execution_count": 5,
   "metadata": {},
   "outputs": [],
   "source": [
    "g = 8.6e-4"
   ]
  },
  {
   "cell_type": "code",
   "execution_count": 6,
   "metadata": {},
   "outputs": [],
   "source": [
    "S = pairwise_similarities(PC20,  # similarities in the 20 PC space\n",
    "                          query=r_cells,  # only to the reference cells\n",
    "                          metric=\"rbf\",  # metric as in notebook 1\n",
    "                          metric_params={\"gamma\": g})"
   ]
  },
  {
   "cell_type": "markdown",
   "metadata": {},
   "source": [
    "## 3. Calculate enrichment scores"
   ]
  },
  {
   "cell_type": "markdown",
   "metadata": {},
   "source": [
    "We don't do any mapping since we will not inspect the genes per cell so we will run using a numpy array (.values)"
   ]
  },
  {
   "cell_type": "code",
   "execution_count": 7,
   "metadata": {},
   "outputs": [
    {
     "name": "stdout",
     "output_type": "stream",
     "text": [
      "Start enrichment scoring using 32 CPUs\n",
      "Creating process pool\n",
      "Run enrichment scoring\n",
      "Enrichment scoring complete\n"
     ]
    }
   ],
   "source": [
    "escores = calculate_escores(data.values, query=r_cells, S=S)  # calculcate scores"
   ]
  },
  {
   "cell_type": "markdown",
   "metadata": {},
   "source": [
    "We then determine our signficantly enriched genes"
   ]
  },
  {
   "cell_type": "code",
   "execution_count": 8,
   "metadata": {},
   "outputs": [],
   "source": [
    "P = permute(data.values)  # make sure to use a numpy matrix"
   ]
  },
  {
   "cell_type": "code",
   "execution_count": 9,
   "metadata": {},
   "outputs": [
    {
     "name": "stdout",
     "output_type": "stream",
     "text": [
      "Start enrichment scoring using 32 CPUs\n",
      "Creating process pool\n",
      "Run enrichment scoring\n",
      "Enrichment scoring complete\n"
     ]
    }
   ],
   "source": [
    "pscores = calculate_escores(P, query=r_cells, S=S)"
   ]
  },
  {
   "cell_type": "code",
   "execution_count": 10,
   "metadata": {},
   "outputs": [],
   "source": [
    "interval = sig_interval(pscores, n_sds=8)  # not very restrictive"
   ]
  },
  {
   "cell_type": "code",
   "execution_count": 11,
   "metadata": {},
   "outputs": [],
   "source": [
    "sigdict = sig_dictionary(escores, interval)"
   ]
  },
  {
   "cell_type": "markdown",
   "metadata": {},
   "source": [
    "We get a list of signficantly erniched genes in all cells and subset our data"
   ]
  },
  {
   "cell_type": "code",
   "execution_count": 12,
   "metadata": {},
   "outputs": [],
   "source": [
    "subset = list({x for v in sigdict.values() for x in v})  # get a set of all values in the dictionary"
   ]
  },
  {
   "cell_type": "code",
   "execution_count": 13,
   "metadata": {},
   "outputs": [
    {
     "data": {
      "text/plain": [
       "1328"
      ]
     },
     "execution_count": 13,
     "metadata": {},
     "output_type": "execute_result"
    }
   ],
   "source": [
    "len(subset)"
   ]
  },
  {
   "cell_type": "code",
   "execution_count": 14,
   "metadata": {},
   "outputs": [],
   "source": [
    "subset = data.iloc[:, subset]"
   ]
  },
  {
   "cell_type": "markdown",
   "metadata": {},
   "source": [
    "## 4. Dimensionality reduction and visualization"
   ]
  },
  {
   "cell_type": "code",
   "execution_count": 15,
   "metadata": {},
   "outputs": [],
   "source": [
    "PCA20 = PCA(n_components=20).fit_transform(subset.values)  # PCA on the subset\n",
    "newUMAP = umap().fit_transform(PCA20)  # UMAP on PCA"
   ]
  },
  {
   "cell_type": "markdown",
   "metadata": {},
   "source": [
    "Plot a comparison of the UMAPs"
   ]
  },
  {
   "cell_type": "code",
   "execution_count": 16,
   "metadata": {},
   "outputs": [],
   "source": [
    "annotations = {\n",
    "    \"HSPC_117\": [\"DC\", \"#fcba03\"],\n",
    "    \"HSPC_232\": [\"pro/preB\", \"#03e7fc\"],\n",
    "    \"HSPC_336\": [\"T commited\", \"#c689f0\"],\n",
    "    \"LT-HSC_044\": [\"Unknown\", \"#2c292e\"],\n",
    "    \"LT-HSC_068\": [\"HSC\", \"#d1be8c\"],\n",
    "    \"LT-HSC_077\": [\"B\", \"#0011ff\"],\n",
    "    \"LT-HSC_124\": [\"CMP\", \"#00bf93\"],\n",
    "    \"Prog_029\": [\"Erythrocyte\", \"#fc0303\"],\n",
    "    \"Prog_182\": [\"eo/baso/mast\", \"#fcdf03\"],\n",
    "    \"Prog_210\": [\"CLP\", \"#6c96a3\"],\n",
    "    \"Prog_369\": [\"Erythrocyte\", \"#fc0303\"],\n",
    "    \"Prog_487\": [\"GMP/Neutrophil\", \"#ff9100\"],\n",
    "    \"Prog_488\": [\"CLP\", \"#6c96a3\"],\n",
    "    \"Prog_729\": [\"T\", \"#9803fc\"],\n",
    "    \"Prog_734\": [\"MEP\", \"#c78c7b\"],\n",
    "    \"Prog_736\": [\"Megakaryocyte\", \"#fc4a03\"],\n",
    "    \"Prog_775\": [\"CMP\", \"#00bf93\"]\n",
    "}\n",
    "order = [\"HSC\", \"CMP\", \"GMP/Neutrophil\", \"eo/baso/mast\", \"DC\",\n",
    "         \"CLP\", \"pro/preB\", \"B\", \"T commited\", \"T\",\n",
    "         \"MEP\", \"Erythrocyte\", \"Megakaryocyte\", \"Unknown\"]\n",
    "colors = [x[1] for x in annotations.values()]\n",
    "annots = [x[0] for x in annotations.values()]\n",
    "coldict = dict(zip(annots, colors))\n",
    "legend = {k: coldict[k] for k in order}\n",
    "marker = [plt.Line2D([0,0], [0,0], color=c, marker=\"o\", ls=\"\", markersize=2)\n",
    "          for c in legend.values()]"
   ]
  },
  {
   "cell_type": "code",
   "execution_count": 17,
   "metadata": {},
   "outputs": [
    {
     "data": {
      "image/png": "[encoded data removed]",
      "text/plain": [
       "<Figure size 720x288 with 2 Axes>"
      ]
     },
     "metadata": {
      "needs_background": "light"
     },
     "output_type": "display_data"
    }
   ],
   "source": [
    "fig, axs = plt.subplots(1, 2)\n",
    "fig.set_figwidth(10)\n",
    "for ax, U in zip(axs, [UMAP, newUMAP]):\n",
    "    ax.scatter(U[:, 0], U[:, 1], s=2, color=\"lightgrey\")\n",
    "    ax.scatter(U[r_cells, 0], U[r_cells, 1], s=2, color=colors)\n",
    "    ax.axis(\"off\")\n",
    "axs[0].set_title(\"UMAP from 5577 HVGs\")\n",
    "axs[1].set_title(\"UMAP from 1328 top enriched genes\")\n",
    "leg = plt.legend(marker, legend.keys(), numpoints=1, fontsize=8, ncol=5,\n",
    "                 loc=\"lower center\", bbox_to_anchor=(-.1, -0.3))\n",
    "leg.get_frame().set_linewidth(0.0)"
   ]
  }
 ],
 "metadata": {
  "kernelspec": {
   "display_name": "Python 3",
   "language": "python",
   "name": "python3"
  },
  "language_info": {
   "codemirror_mode": {
    "name": "ipython",
    "version": 3
   },
   "file_extension": ".py",
   "mimetype": "text/x-python",
   "name": "python",
   "nbconvert_exporter": "python",
   "pygments_lexer": "ipython3",
   "version": "3.6.7"
  }
 },
 "nbformat": 4,
 "nbformat_minor": 4
}
